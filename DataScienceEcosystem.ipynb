{
 "cells": [
  {
   "cell_type": "markdown",
   "id": "4bc738e6-e3ac-4fe9-8539-65a1d7609131",
   "metadata": {
    "tags": []
   },
   "source": [
    "# Data Science Tools and Ecosystem"
   ]
  },
  {
   "cell_type": "markdown",
   "id": "dc9b5439-1457-49e5-b9fa-9089e8199ee2",
   "metadata": {},
   "source": [
    "**Objectives:**\n",
    "- List of the popular languages\n",
    "- List of popular libraries used bu Data Scientists\n",
    "- Table of tools\n",
    "- Some code examples"
   ]
  },
  {
   "cell_type": "markdown",
   "id": "f29b8a93-3ea2-4794-9e2f-2d973d5018e0",
   "metadata": {},
   "source": [
    "In this notebook, Data Science Tools and Ecosystem are summarized."
   ]
  },
  {
   "cell_type": "markdown",
   "id": "2b61f4ff-01fc-4465-b8d3-474daa419c51",
   "metadata": {},
   "source": [
    "Some of the popular languages that Data Scientists use are:\n",
    "1. Python\n",
    "2. Scala\n",
    "3. R\n",
    "4. C++\n",
    "5. Julia"
   ]
  },
  {
   "cell_type": "markdown",
   "id": "9f9e5f4f-2201-465e-be1e-57b76949a004",
   "metadata": {},
   "source": [
    "Some of the commonly used libraries used by Data Scientists include:\n",
    "1. Tensorflow\n",
    "2. Pandas\n",
    "3. PyTorch"
   ]
  },
  {
   "cell_type": "markdown",
   "id": "4bd7c2de-1502-46a0-bed4-fee465c1231c",
   "metadata": {
    "tags": []
   },
   "source": [
    "Data Science Tools:\n",
    "\n",
    "| Data Management | Integration & Transformation | Visualization | Model Deployment | Model Monitoring |\n",
    "| --------------- | ---------------------------- | ------------- | ---------------- | ---------------- |\n",
    "| PosrgreSQL      | Apache Kafka                 | Kibana        | Kubernetes       | Prometheus       |\n",
    "| MongoDB         | SparkSQL                     | PixelDust     | OpenShift        | ModelDb          |\n"
   ]
  },
  {
   "cell_type": "markdown",
   "id": "077b9aa7-4d5b-4101-b77f-986c2294f96b",
   "metadata": {},
   "source": [
    "### Below are a few examples of evaluating arithmetic expressions in Python"
   ]
  },
  {
   "cell_type": "code",
   "execution_count": 7,
   "id": "e2d3d56f-f91a-4f00-adf2-6f1c3bb5fc0e",
   "metadata": {
    "tags": []
   },
   "outputs": [
    {
     "data": {
      "text/plain": [
       "17"
      ]
     },
     "execution_count": 7,
     "metadata": {},
     "output_type": "execute_result"
    }
   ],
   "source": [
    "# This a simple arithmetic expression to mutiply then add integers\n",
    "(3*4) + 5"
   ]
  },
  {
   "cell_type": "code",
   "execution_count": 9,
   "id": "21e8b616-e807-4368-bcd5-7549242373c0",
   "metadata": {
    "collapsed": true,
    "jupyter": {
     "outputs_hidden": true
    },
    "tags": []
   },
   "outputs": [
    {
     "data": {
      "text/plain": [
       "3.3333333333333335"
      ]
     },
     "execution_count": 9,
     "metadata": {},
     "output_type": "execute_result"
    }
   ],
   "source": [
    "# This will convert 200 minutes to hours by diving by 60\n",
    "200/60"
   ]
  },
  {
   "cell_type": "markdown",
   "id": "75fbb830-d796-4a60-bb68-a67f10702158",
   "metadata": {},
   "source": [
    "## Author\n",
    "Konstantin Budrin"
   ]
  }
 ],
 "metadata": {
  "kernelspec": {
   "display_name": "Python 3 (ipykernel)",
   "language": "python",
   "name": "python3"
  },
  "language_info": {
   "codemirror_mode": {
    "name": "ipython",
    "version": 3
   },
   "file_extension": ".py",
   "mimetype": "text/x-python",
   "name": "python",
   "nbconvert_exporter": "python",
   "pygments_lexer": "ipython3",
   "version": "3.11.4"
  }
 },
 "nbformat": 4,
 "nbformat_minor": 5
}
